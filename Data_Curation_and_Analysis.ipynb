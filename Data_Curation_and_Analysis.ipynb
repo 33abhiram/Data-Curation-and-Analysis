{
 "cells": [
  {
   "cell_type": "markdown",
   "metadata": {},
   "source": [
    "## Data Curation and Analysis Project"
   ]
  },
  {
   "cell_type": "markdown",
   "metadata": {},
   "source": [
    "The python libraries used in this project are BeautifulSoup, pandas and matplotlib."
   ]
  },
  {
   "cell_type": "code",
   "execution_count": 2,
   "metadata": {},
   "outputs": [
    {
     "name": "stdout",
     "output_type": "stream",
     "text": [
      "BeautifulSoup and Pandas are already installed and imported\n"
     ]
    }
   ],
   "source": [
    "# Import libraries\n",
    "\n",
    "try:\n",
    "    from bs4 import BeautifulSoup\n",
    "    import pandas\n",
    "    print (\"BeautifulSoup and Pandas are already installed and imported\")\n",
    "except:\n",
    "    import sys\n",
    "    !conda install --yes --prefix {sys.prefix} bs4\n",
    "    !conda install --yes --prefix {sys.prefix} pandas\n",
    "    from bs4 import BeautifulSoup\n",
    "    import pandas\n",
    "    print (\"BeautifulSoup and Pandas were not found. Installed them and imported\")\n",
    "\n",
    "import requests\n",
    "\n",
    "from matplotlib import pyplot as plt"
   ]
  },
  {
   "cell_type": "markdown",
   "metadata": {},
   "source": [
    "I parse the webpage https://stockanalysis.com/stocks/ which holds information about 5793 US stocks. I use 500 of these and store them as an object using BeautifulSoup."
   ]
  },
  {
   "cell_type": "code",
   "execution_count": 19,
   "metadata": {},
   "outputs": [
    {
     "name": "stdout",
     "output_type": "stream",
     "text": [
      "Webpage loaded and parsed successfully...\n"
     ]
    }
   ],
   "source": [
    "# Read and parse the webpage on stock market data\n",
    "my_webpage = requests.get(\"https://stockanalysis.com/stocks/\")\n",
    "\n",
    "bs_object = BeautifulSoup(my_webpage.content, \"html.parser\")\n",
    "print (\"Webpage loaded and parsed successfully...\")"
   ]
  },
  {
   "cell_type": "markdown",
   "metadata": {},
   "source": [
    "I locate and store the table from the webpage by searching for any \"table\" tags in its html code. I also gather all column names by searching for any table header tags \"th\"."
   ]
  },
  {
   "cell_type": "code",
   "execution_count": 20,
   "metadata": {},
   "outputs": [
    {
     "name": "stdout",
     "output_type": "stream",
     "text": [
      "['Symbol ', 'Company Name ', 'Industry ', 'Market Cap ']\n"
     ]
    }
   ],
   "source": [
    "# Extract method for table data\n",
    "table = bs_object.find(\"table\",class_ = \"svelte-1jtwn20\")\n",
    "headers = table.find_all(\"th\")\n",
    "\n",
    "column_names = []\n",
    "for i in headers:\n",
    "    title = i.text\n",
    "    column_names.append(title)\n",
    "\n",
    "print(column_names)\n"
   ]
  },
  {
   "cell_type": "markdown",
   "metadata": {},
   "source": [
    "I then transform the table into a data frame using pandas and add all the rows to it by finding all the \"tr\" and \"td\" tags in the table."
   ]
  },
  {
   "cell_type": "code",
   "execution_count": 21,
   "metadata": {},
   "outputs": [
    {
     "name": "stdout",
     "output_type": "stream",
     "text": [
      "    Symbol                        Company Name   \\\n",
      "0         A          Agilent Technologies, Inc.   \n",
      "1        AA                   Alcoa Corporation   \n",
      "2       AAC        Ares Acquisition Corporation   \n",
      "3      AACG               ATA Creativity Global   \n",
      "4      AACI          Armada Acquisition Corp. I   \n",
      "..      ...                                 ...   \n",
      "495    ATLX           Atlas Lithium Corporation   \n",
      "496    ATMC          AlphaTime Acquisition Corp   \n",
      "497    ATMU  Atmus Filtration Technologies Inc.   \n",
      "498    ATMV          AlphaVest Acquisition Corp   \n",
      "499    ATNF             180 Life Sciences Corp.   \n",
      "\n",
      "                          Industry  Market Cap   \n",
      "0            Diagnostics & Research      33.17B  \n",
      "1                          Aluminum       5.00B  \n",
      "2                   Shell Companies     760.41M  \n",
      "3     Education & Training Services      34.74M  \n",
      "4                   Shell Companies      86.14M  \n",
      "..                              ...         ...  \n",
      "495  Other Precious Metals & Mining     288.41M  \n",
      "496                 Shell Companies      96.12M  \n",
      "497  Pollution & Treatment Controls       1.70B  \n",
      "498                 Shell Companies      97.13M  \n",
      "499                   Biotechnology       3.35M  \n",
      "\n",
      "[500 rows x 4 columns]\n"
     ]
    }
   ],
   "source": [
    "# Transform Method to convert data into a reliable data frame\n",
    "df = pandas.DataFrame(columns=column_names)\n",
    "\n",
    "rows = table.find_all(\"tr\")\n",
    "\n",
    "for i in rows[1:]:\n",
    "    data = i.find_all(\"td\")\n",
    "    row = [tr.text.strip() for tr in data]\n",
    "    l = len(df)\n",
    "    df.loc[l] = row\n",
    "\n",
    "print(df)\n",
    "    "
   ]
  },
  {
   "cell_type": "markdown",
   "metadata": {},
   "source": [
    "I then clean the data by dropping any duplicate rows or null values."
   ]
  },
  {
   "cell_type": "code",
   "execution_count": 22,
   "metadata": {},
   "outputs": [],
   "source": [
    "# Delete duplicate rows\n",
    "df = df.drop_duplicates()\n",
    "\n",
    "# Drop null values\n",
    "df = df.dropna()\n"
   ]
  },
  {
   "cell_type": "markdown",
   "metadata": {},
   "source": [
    "Finally, I convert my data frame to a csv file."
   ]
  },
  {
   "cell_type": "code",
   "execution_count": 70,
   "metadata": {},
   "outputs": [],
   "source": [
    "# Save as csv file / Load method\n",
    "df.to_csv(\"stock_market_data.csv\")"
   ]
  },
  {
   "cell_type": "markdown",
   "metadata": {},
   "source": [
    "The bar chart provides a visualization of the market cap of the top five companies in the dataset. It’s striking to observe that Apple, represented by the ticker symbol AAPL, dominates the chart with the highest market cap. What’s particularly surprising is the significant lead Apple has over Amazon (AMZN) - its market cap is nearly twice as large."
   ]
  },
  {
   "cell_type": "code",
   "execution_count": 25,
   "metadata": {},
   "outputs": [
    {
     "data": {
      "image/png": "[encoded data removed]",
      "text/plain": [
       "<Figure size 1000x600 with 1 Axes>"
      ]
     },
     "metadata": {},
     "output_type": "display_data"
    }
   ],
   "source": [
    "# Data Visualization\n",
    "def convert_market_cap(value):\n",
    "    value = value.replace(',', '')\n",
    "    if 'B' in value:\n",
    "        return float(value.replace('B', '')) * 1e9\n",
    "    if 'M' in value:\n",
    "        return float(value.replace('M', '')) * 1e6\n",
    "\n",
    "df1 = df.copy()\n",
    "df1['Market Cap '] = df1['Market Cap '].apply(convert_market_cap)\n",
    "\n",
    "top_five = df1.sort_values('Market Cap ', ascending=False).head(5)\n",
    "\n",
    "plt.figure(figsize=(10, 6))\n",
    "plt.bar(top_five['Symbol '], top_five['Market Cap '], color='skyblue')\n",
    "plt.xlabel(\"Company Symbol\")\n",
    "plt.ylabel(\"Market Cap (Billions)\")\n",
    "plt.title(\"Top Five Companies by Market Cap\")\n",
    "plt.xticks(rotation=45, ha='right')\n",
    "plt.show()\n"
   ]
  },
  {
   "cell_type": "markdown",
   "metadata": {},
   "source": [
    "I use the describe method on the Market Cap column to get an idea on its numerical statistics. The mean is $15.9 billion and the median is $434 million which shows that the mean is significantly skewed by upper outliers like Apple and Amazon - their large market cap values drive the mean up. So the average market cap value of a company in my data set is ~ 434 million USD."
   ]
  },
  {
   "cell_type": "code",
   "execution_count": 28,
   "metadata": {},
   "outputs": [
    {
     "data": {
      "text/plain": [
       "count    5.000000e+02\n",
       "mean     1.592406e+10\n",
       "std      1.417913e+11\n",
       "min      1.200000e+06\n",
       "25%      7.799750e+07\n",
       "50%      4.339150e+08\n",
       "75%      3.062500e+09\n",
       "max      2.811030e+12\n",
       "Name: Market Cap , dtype: float64"
      ]
     },
     "execution_count": 28,
     "metadata": {},
     "output_type": "execute_result"
    }
   ],
   "source": [
    "# Descriptive Statistics\n",
    "df1[\"Market Cap \"].describe()"
   ]
  }
 ],
 "metadata": {
  "kernelspec": {
   "display_name": "Python 3",
   "language": "python",
   "name": "python3"
  },
  "language_info": {
   "codemirror_mode": {
    "name": "ipython",
    "version": 3
   },
   "file_extension": ".py",
   "mimetype": "text/x-python",
   "name": "python",
   "nbconvert_exporter": "python",
   "pygments_lexer": "ipython3",
   "version": "3.11.5"
  }
 },
 "nbformat": 4,
 "nbformat_minor": 2
}
